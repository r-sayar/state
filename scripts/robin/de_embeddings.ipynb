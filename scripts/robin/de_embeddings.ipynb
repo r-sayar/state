{
 "cells": [
  {
   "cell_type": "code",
   "execution_count": 3,
   "id": "2ee0bfa8",
   "metadata": {},
   "outputs": [],
   "source": [
    "import anndata as ad\n",
    "from pathlib import Path"
   ]
  },
  {
   "cell_type": "markdown",
   "id": "83b926bf",
   "metadata": {},
   "source": [
    "ew: \n",
    "but in any case de_df[[\"gene_col\", \"de_embedding\"]].to_csv()"
   ]
  },
  {
   "cell_type": "code",
   "execution_count": 8,
   "id": "fb56237f",
   "metadata": {},
   "outputs": [],
   "source": [
    "import numpy as np\n",
    "import pandas as pd\n",
    "from anndata import AnnData\n",
    "from pdex import parallel_differential_expression\n",
    "from tqdm import tqdm\n",
    "\n",
    "\n",
    "def compute_de_labels(adata: AnnData,\n",
    "                           perturb_col: str = \"target_gene\",\n",
    "                           cell_type_col: str = \"cell_type\",\n",
    "                           control_var: str = \"non-targeting\",\n",
    "                           alpha: float = 0.05) -> None:\n",
    "    \"\"\"\n",
    "    Precompute DE gene labels (+1, -1, 0) using pdex.\n",
    "    Stores results in adata.uns['de_labels'].\n",
    "\n",
    "    Parameters\n",
    "    ----------\n",
    "    adata : AnnData\n",
    "        Input AnnData object.\n",
    "    perturb_col : str\n",
    "        Column in obs indicating perturbation/target gene.\n",
    "    cell_type_col : str\n",
    "        Column in obs indicating cell type.\n",
    "    control_var : str\n",
    "        Name of the control group in perturb_col.\n",
    "    alpha : float\n",
    "        FDR threshold for significance.\n",
    "    \"\"\"\n",
    "\n",
    "\n",
    "\n",
    "    cell_types = adata.obs[cell_type_col].unique()\n",
    "    target_genes = adata.obs[perturb_col].unique()\n",
    "\n",
    "    result = {}\n",
    "\n",
    "    # iterate over cell types\n",
    "    for ct in tqdm(cell_types, desc=\"Computing DE labels with pdex\"):\n",
    "        # subset AnnData to current cell type\n",
    "        adata_ct = adata[adata.obs[cell_type_col] == ct].copy()\n",
    "        \n",
    "        # Run pdex differential expression\n",
    "        de_df = parallel_differential_expression(\n",
    "            adata_ct,\n",
    "            reference=control_var,\n",
    "            groupby_key=perturb_col,\n",
    "            metric=\"wilcoxon\",  # default\n",
    "            num_workers=20,\n",
    "            batch_size=100,\n",
    "        )\n",
    "\n",
    "        # if \"fdr\" < 0.05 and \"percent_change\" > 0 set to 1, if \"fdr\" < 0.05 and \"percent_change\" < 0 set to -1, else 0\n",
    "        de_df[\"de_embedding\"] = de_df.apply(\n",
    "            lambda row: 1 if row[\"fdr\"] < alpha and row[\"percent_change\"] > 0 else (-1 if row[\"fdr\"] < alpha and row[\"percent_change\"] < 0 else 0),\n",
    "            axis=1\n",
    "        )\n",
    "\n",
    "        # Create a DataFrame from the DE results\n",
    "\n",
    "        \n",
    "        for target in target_genes:\n",
    "            # filter for current target gene\n",
    "            de_target = de_df[de_df[\"target\"] == target]\n",
    "            if not de_target.empty:\n",
    "                result[f\"{ct}_{target}\"] = de_target[\"de_embedding\"].values\n",
    "            else:\n",
    "                result[f\"{ct}_{target}\"] = 0\n",
    "\n",
    "        \n",
    "        #print(de_df[[\"gene_col\", \"de_embedding\"]])\n",
    "        \n",
    "\n",
    "    adata.uns['de_labels'] = result\n",
    "    print(f\"Stored DE results in adata.uns['de_labels'] with {len(adata.uns['de_labels'])} entries.\")\n",
    "\n",
    "    \n",
    "\n",
    "          \n"
   ]
  },
  {
   "cell_type": "code",
   "execution_count": null,
   "id": "6e538055",
   "metadata": {},
   "outputs": [
    {
     "ename": "TypeError",
     "evalue": "unhashable type: 'list'",
     "output_type": "error",
     "traceback": [
      "\u001b[31m---------------------------------------------------------------------------\u001b[39m",
      "\u001b[31mTypeError\u001b[39m                                 Traceback (most recent call last)",
      "\u001b[36mCell\u001b[39m\u001b[36m \u001b[39m\u001b[32mIn[12]\u001b[39m\u001b[32m, line 6\u001b[39m\n\u001b[32m      2\u001b[39m adata = ad.read_h5ad(path)\u001b[38;5;66;03m#we should be able to load this faster, by using the .csv instead! \u001b[39;00m\n\u001b[32m      4\u001b[39m \u001b[38;5;66;03m#if 'de_labels' not in adata.uns:\u001b[39;00m\n\u001b[32m      5\u001b[39m \u001b[38;5;66;03m#    compute_de_labels(adata, perturb_col=\"target_gene\", cell_type_col=\"cell_type\", control_var=\"non-targeting\", alpha=0.05)\u001b[39;00m\n\u001b[32m----> \u001b[39m\u001b[32m6\u001b[39m \u001b[38;5;28mprint\u001b[39m(\u001b[43madata\u001b[49m\u001b[43m.\u001b[49m\u001b[43muns\u001b[49m\u001b[43m[\u001b[49m\u001b[43m[\u001b[49m\u001b[33;43m\"\u001b[39;49m\u001b[33;43mgene_col\u001b[39;49m\u001b[33;43m\"\u001b[39;49m\u001b[43m,\u001b[49m\u001b[43m \u001b[49m\u001b[33;43m\"\u001b[39;49m\u001b[33;43mde_embedding\u001b[39;49m\u001b[33;43m\"\u001b[39;49m\u001b[43m]\u001b[49m\u001b[43m]\u001b[49m.head().count())\n",
      "\u001b[31mTypeError\u001b[39m: unhashable type: 'list'"
     ]
    }
   ],
   "source": [
    "path=\"/buffer/ag_bsc/pmsb_workflows_2025/team4_ensemble_assembly/robin/arc-state/state/datasets/base_dataset/hepg2.h5\"\n",
    "adata = ad.read_h5ad(path)#we should be able to load this faster, by using the .csv instead! \n",
    "\n",
    "#if 'de_labels' not in adata.uns:\n",
    "#    compute_de_labels(adata, perturb_col=\"target_gene\", cell_type_col=\"cell_type\", control_var=\"non-targeting\", alpha=0.05)\n",
    "#print(adata.uns[[\"gene_col\", \"de_embedding\"]])\n",
    "\n",
    "de_df = pd.DataFrame(adata.uns['de_labels']).T.reset_index()\n",
    "de_df.columns = ['cell_type_target_gene', 'de_embedding']\n",
    "print(de_df.head())"
   ]
  },
  {
   "cell_type": "code",
   "execution_count": 15,
   "id": "4508025c",
   "metadata": {},
   "outputs": [
    {
     "name": "stdout",
     "output_type": "stream",
     "text": [
      "Test dir: /buffer/ag_bsc/pmsb_workflows_2025/team4_ensemble_assembly/robin/arc-state/state/datasets/base_dataset/DES_test -> 70 CSV files\n",
      "Compare dir: /buffer/ag_bsc/pmsb_workflows_2025/team4_ensemble_assembly/robin/arc-state/state/datasets/base_dataset/DES -> 68 CSV files\n",
      "After normalizing prefixes -> test files: 70, compare files: 68\n",
      "Common files: 68\n",
      "Files only in test (2): ['non-targeting.csv', '{perties}.csv']\n",
      "ARPC2.csv: DIFFER (shape differs: test (5, 12) vs compare (0, 6311); columns differ; no common columns to compare)\n",
      "ATP6V0B.csv: DIFFER (shape differs: test (261, 12) vs compare (0, 5417); columns differ; no common columns to compare)\n",
      "ATP6V0C.csv: DIFFER (shape differs: test (448, 12) vs compare (0, 5638); columns differ; no common columns to compare)\n",
      "C1QBP.csv: DIFFER (shape differs: test (18, 12) vs compare (0, 4779); columns differ; no common columns to compare)\n",
      "CAST.csv: DIFFER (shape differs: test (14, 12) vs compare (0, 4779); columns differ; no common columns to compare)\n",
      "CHMP3.csv: DIFFER (shape differs: test (5, 12) vs compare (0, 1983); columns differ; no common columns to compare)\n",
      "COX6C.csv: DIFFER (shape differs: test (13, 12) vs compare (0, 4468); columns differ; no common columns to compare)\n",
      "DAXX.csv: DIFFER (shape differs: test (112, 12) vs compare (0, 5066); columns differ; no common columns to compare)\n",
      "DHX36.csv: DIFFER (shape differs: test (16, 12) vs compare (0, 5179); columns differ; no common columns to compare)\n",
      "DNAJA3.csv: DIFFER (shape differs: test (67, 12) vs compare (0, 5594); columns differ; no common columns to compare)\n",
      "DNMT1.csv: DIFFER (shape differs: test (200, 12) vs compare (0, 6048); columns differ; no common columns to compare)\n",
      "DPH2.csv: DIFFER (shape differs: test (21, 12) vs compare (0, 5388); columns differ; no common columns to compare)\n",
      "EIF3H.csv: DIFFER (shape differs: test (0, 12) vs compare (0, 3590); columns differ; no common columns to compare)\n",
      "EIF4B.csv: DIFFER (shape differs: test (73, 12) vs compare (0, 7242); columns differ; no common columns to compare)\n",
      "EPB41L2.csv: DIFFER (shape differs: test (17, 12) vs compare (0, 4678); columns differ; no common columns to compare)\n",
      "ETV4.csv: DIFFER (shape differs: test (45, 12) vs compare (0, 4429); columns differ; no common columns to compare)\n",
      "EWSR1.csv: DIFFER (shape differs: test (6, 12) vs compare (0, 5040); columns differ; no common columns to compare)\n",
      "FDPS.csv: DIFFER (shape differs: test (11, 12) vs compare (0, 4709); columns differ; no common columns to compare)\n",
      "GSK3B.csv: DIFFER (shape differs: test (23, 12) vs compare (0, 5547); columns differ; no common columns to compare)\n",
      "HDAC3.csv: DIFFER (shape differs: test (22, 12) vs compare (0, 5093); columns differ; no common columns to compare)\n",
      "HIRA.csv: DIFFER (shape differs: test (8, 12) vs compare (0, 6656); columns differ; no common columns to compare)\n",
      "HMGCR.csv: DIFFER (shape differs: test (9, 12) vs compare (0, 4678); columns differ; no common columns to compare)\n",
      "HTATSF1.csv: DIFFER (shape differs: test (18, 12) vs compare (0, 4779); columns differ; no common columns to compare)\n",
      "JAZF1.csv: DIFFER (shape differs: test (29, 12) vs compare (0, 6866); columns differ; no common columns to compare)\n",
      "KDM1A.csv: DIFFER (shape differs: test (88, 12) vs compare (0, 5263); columns differ; no common columns to compare)\n",
      "KIF20A.csv: DIFFER (shape differs: test (2, 12) vs compare (0, 3701); columns differ; no common columns to compare)\n",
      "LRPPRC.csv: DIFFER (shape differs: test (13, 12) vs compare (0, 4241); columns differ; no common columns to compare)\n",
      "LZTR1.csv: DIFFER (shape differs: test (17, 12) vs compare (0, 4849); columns differ; no common columns to compare)\n",
      "MAT2A.csv: DIFFER (shape differs: test (5, 12) vs compare (0, 6381); columns differ; no common columns to compare)\n",
      "MAU2.csv: DIFFER (shape differs: test (12, 12) vs compare (0, 4919); columns differ; no common columns to compare)\n",
      "MAX.csv: DIFFER (shape differs: test (71, 12) vs compare (0, 5226); columns differ; no common columns to compare)\n",
      "MBTPS1.csv: DIFFER (shape differs: test (82, 12) vs compare (0, 6521); columns differ; no common columns to compare)\n",
      "MED1.csv: DIFFER (shape differs: test (24, 12) vs compare (0, 3701); columns differ; no common columns to compare)\n",
      "MED12.csv: DIFFER (shape differs: test (139, 12) vs compare (0, 3934); columns differ; no common columns to compare)\n",
      "MED24.csv: DIFFER (shape differs: test (3, 12) vs compare (0, 2971); columns differ; no common columns to compare)\n",
      "METTL14.csv: DIFFER (shape differs: test (37, 12) vs compare (0, 5016); columns differ; no common columns to compare)\n",
      "METTL17.csv: DIFFER (shape differs: test (9, 12) vs compare (0, 4709); columns differ; no common columns to compare)\n",
      "METTL3.csv: DIFFER (shape differs: test (128, 12) vs compare (0, 5866); columns differ; no common columns to compare)\n",
      "NDUFB4.csv: DIFFER (shape differs: test (67, 12) vs compare (0, 4849); columns differ; no common columns to compare)\n",
      "NDUFB6.csv: DIFFER (shape differs: test (6, 12) vs compare (0, 4241); columns differ; no common columns to compare)\n",
      "NISCH.csv: DIFFER (shape differs: test (5, 12) vs compare (0, 5898); columns differ; no common columns to compare)\n",
      "OXA1L.csv: DIFFER (shape differs: test (84, 12) vs compare (0, 3934); columns differ; no common columns to compare)\n",
      "PHF10.csv: DIFFER (shape differs: test (379, 12) vs compare (0, 5996); columns differ; no common columns to compare)\n",
      "PPP2R3C.csv: DIFFER (shape differs: test (4, 12) vs compare (0, 4985); columns differ; no common columns to compare)\n",
      "PTPN1.csv: DIFFER (shape differs: test (1, 12) vs compare (0, 5702); columns differ; no common columns to compare)\n",
      "RNF20.csv: DIFFER (shape differs: test (34, 12) vs compare (0, 4595); columns differ; no common columns to compare)\n",
      "RRM1.csv: DIFFER (shape differs: test (72, 12) vs compare (0, 3797); columns differ; no common columns to compare)\n",
      "SDC1.csv: DIFFER (shape differs: test (152, 12) vs compare (0, 5725); columns differ; no common columns to compare)\n",
      "SEC62.csv: DIFFER (shape differs: test (1, 12) vs compare (0, 4468); columns differ; no common columns to compare)\n",
      "SLC25A3.csv: DIFFER (shape differs: test (3, 12) vs compare (0, 4678); columns differ; no common columns to compare)\n",
      "SMAGP.csv: DIFFER (shape differs: test (4, 12) vs compare (0, 5330); columns differ; no common columns to compare)\n",
      "SMARCB1.csv: DIFFER (shape differs: test (30, 12) vs compare (0, 6032); columns differ; no common columns to compare)\n",
      "SMARCE1.csv: DIFFER (shape differs: test (38, 12) vs compare (0, 3797); columns differ; no common columns to compare)\n",
      "SSBP1.csv: DIFFER (shape differs: test (14, 12) vs compare (0, 3934); columns differ; no common columns to compare)\n",
      "STAG2.csv: DIFFER (shape differs: test (18, 12) vs compare (0, 5040); columns differ; no common columns to compare)\n",
      "STRAP.csv: DIFFER (shape differs: test (53, 12) vs compare (0, 5200); columns differ; no common columns to compare)\n",
      "SUPT4H1.csv: DIFFER (shape differs: test (6, 12) vs compare (0, 3334); columns differ; no common columns to compare)\n",
      "SUPV3L1.csv: DIFFER (shape differs: test (33, 12) vs compare (0, 4678); columns differ; no common columns to compare)\n",
      "TADA1.csv: DIFFER (shape differs: test (56, 12) vs compare (0, 5638); columns differ; no common columns to compare)\n",
      "TAF13.csv: DIFFER (shape differs: test (236, 12) vs compare (0, 6718); columns differ; no common columns to compare)\n",
      "TAZ.csv: DIFFER (shape differs: test (2, 12) vs compare (0, 5330); columns differ; no common columns to compare)\n",
      "TFAM.csv: DIFFER (shape differs: test (67, 12) vs compare (0, 8189); columns differ; no common columns to compare)\n",
      "TMSB10.csv: DIFFER (shape differs: test (44, 12) vs compare (0, 5444); columns differ; no common columns to compare)\n",
      "UBE3C.csv: DIFFER (shape differs: test (5, 12) vs compare (0, 4744); columns differ; no common columns to compare)\n",
      "UQCRB.csv: DIFFER (shape differs: test (15, 12) vs compare (0, 4468); columns differ; no common columns to compare)\n",
      "UQCRQ.csv: DIFFER (shape differs: test (13, 12) vs compare (0, 4241); columns differ; no common columns to compare)\n",
      "USF2.csv: DIFFER (shape differs: test (13, 12) vs compare (0, 5444); columns differ; no common columns to compare)\n",
      "WAC.csv: DIFFER (shape differs: test (8, 12) vs compare (0, 4985); columns differ; no common columns to compare)\n"
     ]
    }
   ],
   "source": [
    "\n",
    "path_to_test=\"/buffer/ag_bsc/pmsb_workflows_2025/team4_ensemble_assembly/robin/arc-state/state/datasets/base_dataset/DES_test/\"\n",
    "path_to_compare=\"/buffer/ag_bsc/pmsb_workflows_2025/team4_ensemble_assembly/robin/arc-state/state/datasets/base_dataset/DES/\"\n",
    "\n",
    "# collect csv files from both directories\n",
    "test_dir = Path(path_to_test)\n",
    "compare_dir = Path(path_to_compare)\n",
    "\n",
    "test_files = {p.name: p for p in test_dir.glob(\"*.csv\")}\n",
    "compare_files = {p.name: p for p in compare_dir.glob(\"*.csv\")}\n",
    "\n",
    "print(f\"Test dir: {test_dir} -> {len(test_files)} CSV files\")\n",
    "print(f\"Compare dir: {compare_dir} -> {len(compare_files)} CSV files\")\n",
    "\n",
    "test_names = set(test_files.keys())\n",
    "compare_names = set(compare_files.keys())\n",
    "\n",
    "def _normalize(fname: str) -> str:\n",
    "    # remove leading \"hepg2_\" or \"hepg_\" if present\n",
    "    if fname.startswith(\"hepg2_\"):\n",
    "        return fname[len(\"hepg2_\"):]\n",
    "    if fname.startswith(\"hepg_\"):\n",
    "        return fname[len(\"hepg_\"):]\n",
    "    return fname\n",
    "\n",
    "# rebuild mappings keyed by normalized names (e.g. \"ARPC2.csv\")\n",
    "_new_test_files = {}\n",
    "for name, p in test_files.items():\n",
    "    nk = _normalize(name)\n",
    "    if nk in _new_test_files:\n",
    "        print(f\"Warning: duplicate normalized test name {nk}; keeping first ({_new_test_files[nk].name})\")\n",
    "    else:\n",
    "        _new_test_files[nk] = p\n",
    "\n",
    "_new_compare_files = {}\n",
    "for name, p in compare_files.items():\n",
    "    nk = _normalize(name)\n",
    "    if nk in _new_compare_files:\n",
    "        print(f\"Warning: duplicate normalized compare name {nk}; keeping first ({_new_compare_files[nk].name})\")\n",
    "    else:\n",
    "        _new_compare_files[nk] = p\n",
    "\n",
    "# replace original dicts and name sets with normalized-key versions\n",
    "test_files = _new_test_files\n",
    "compare_files = _new_compare_files\n",
    "test_names = set(test_files.keys())\n",
    "compare_names = set(compare_files.keys())\n",
    "\n",
    "print(f\"After normalizing prefixes -> test files: {len(test_files)}, compare files: {len(compare_files)}\")\n",
    "\n",
    "common_names = sorted(test_names & compare_names)\n",
    "only_in_test = sorted(test_names - compare_names)\n",
    "only_in_compare = sorted(compare_names - test_names)\n",
    "\n",
    "print(f\"Common files: {len(common_names)}\")\n",
    "if only_in_test:\n",
    "    print(f\"Files only in test ({len(only_in_test)}): {only_in_test}\")\n",
    "if only_in_compare:\n",
    "    print(f\"Files only in compare ({len(only_in_compare)}): {only_in_compare}\")\n",
    "\n",
    "# compare contents for common files\n",
    "for name in common_names:\n",
    "    p_test = test_files[name]\n",
    "    p_cmp = compare_files[name]\n",
    "\n",
    "    # fast byte-wise check first\n",
    "    try:\n",
    "        if p_test.read_bytes() == p_cmp.read_bytes():\n",
    "            print(f\"{name}: IDENTICAL (byte-wise)\")\n",
    "            continue\n",
    "    except Exception as e:\n",
    "        print(f\"{name}: error reading bytes: {e}\")\n",
    "\n",
    "    # fall back to reading as DataFrame and compare\n",
    "    try:\n",
    "        df_test = pd.read_csv(p_test)\n",
    "        df_cmp = pd.read_csv(p_cmp)\n",
    "    except Exception as e:\n",
    "        print(f\"{name}: ERROR reading CSVs as DataFrame: {e}\")\n",
    "        continue\n",
    "\n",
    "    if df_test.equals(df_cmp):\n",
    "        print(f\"{name}: IDENTICAL (DataFrame.equals)\")\n",
    "        continue\n",
    "\n",
    "    # summarize differences\n",
    "    diffs = []\n",
    "    if df_test.shape != df_cmp.shape:\n",
    "        diffs.append(f\"shape differs: test {df_test.shape} vs compare {df_cmp.shape}\")\n",
    "    if list(df_test.columns) != list(df_cmp.columns):\n",
    "        diffs.append(\"columns differ\")\n",
    "\n",
    "    # compute a simple cell-wise diff for common columns and rows\n",
    "    common_cols = [c for c in df_test.columns if c in df_cmp.columns]\n",
    "    if common_cols:\n",
    "        a = df_test[common_cols].reset_index(drop=True).fillna(\"__NA__\").astype(str)\n",
    "        b = df_cmp[common_cols].reset_index(drop=True).fillna(\"__NA__\").astype(str)\n",
    "        rows = min(len(a), len(b))\n",
    "        if rows > 0:\n",
    "            comp = (a.iloc[:rows] != b.iloc[:rows])\n",
    "            n_diff_cells = int(comp.values.sum())\n",
    "            diffs.append(f\"{n_diff_cells} differing cells in first {rows} rows across {len(common_cols)} common columns\")\n",
    "        else:\n",
    "            diffs.append(\"no overlapping rows to compare\")\n",
    "    else:\n",
    "        diffs.append(\"no common columns to compare\")\n",
    "\n",
    "    print(f\"{name}: DIFFER ({'; '.join(diffs)})\")\n",
    "\n",
    "\n"
   ]
  },
  {
   "cell_type": "code",
   "execution_count": 13,
   "id": "425754dc",
   "metadata": {},
   "outputs": [],
   "source": [
    "import numpy as np\n",
    "import pandas as pd\n",
    "from anndata import AnnData\n",
    "from tqdm import tqdm\n",
    "\n",
    "def compute_expression_ranks(\n",
    "    adata: AnnData,\n",
    "    groupby_key: str = \"target_gene\",\n",
    "    celltype_key: str = \"cell_type\",\n",
    ") -> None:\n",
    "    \"\"\"\n",
    "    Precompute gene expression ranks for each (cell_type, target_gene).\n",
    "    Stores results in adata.uns['expr_ranks'].\n",
    "\n",
    "    Each entry is a vector of length n_vars where\n",
    "        rank[i] = rank of gene i's mean expression within that subset.\n",
    "    \"\"\"\n",
    "    results = {}\n",
    "\n",
    "    cell_types = adata.obs[celltype_key].unique()\n",
    "    target_genes = adata.obs[groupby_key].unique()\n",
    "\n",
    "    # single progress bar over all combinations\n",
    "    combos = [(ct, tg) for ct in cell_types for tg in target_genes]\n",
    "    for ct, tg in tqdm(combos, desc=\"Computing expression ranks\", total=len(combos)):\n",
    "        # subset to matching cells\n",
    "        mask = (adata.obs[celltype_key] == ct) & (adata.obs[groupby_key] == tg)\n",
    "        if mask.sum() == 0:\n",
    "            continue\n",
    "\n",
    "        subset = adata[mask]\n",
    "\n",
    "        # mean expression across cells for each gene\n",
    "        mean_expr = np.asarray(subset.X.mean(axis=0)).ravel()\n",
    "\n",
    "        # compute ranks (highest expression = rank 1)\n",
    "        ranks = pd.Series(mean_expr).rank(method=\"first\", ascending=False).to_numpy()\n",
    "\n",
    "        results[f\"{ct}_{tg}\"] = ranks\n",
    "\n",
    "    adata.uns[\"rank_embedding\"] = results\n",
    "    print(f\"Stored rank vectors in adata.uns['rank_embedding'] with {len(results)} entries.\")\n"
   ]
  },
  {
   "cell_type": "code",
   "execution_count": 10,
   "id": "e57d91ae",
   "metadata": {},
   "outputs": [],
   "source": [
    "data_dir = Path(\"/raid/kreid/v_cell/competition_support_set\")"
   ]
  },
  {
   "cell_type": "code",
   "execution_count": 11,
   "id": "cbc1cabb",
   "metadata": {},
   "outputs": [],
   "source": [
    "anndata_paths = [file for file in data_dir.glob(\"*.h5\")]"
   ]
  },
  {
   "cell_type": "code",
   "execution_count": 12,
   "id": "75e7f8f2",
   "metadata": {},
   "outputs": [
    {
     "name": "stdout",
     "output_type": "stream",
     "text": [
      "Processing hepg2.h5\n"
     ]
    },
    {
     "name": "stderr",
     "output_type": "stream",
     "text": [
      "Computing DE labels with pdex:   0%|          | 0/1 [00:00<?, ?it/s]INFO:pdex._single_cell:Precomputing masks for each target gene\n",
      "Identifying target masks: 100%|██████████| 69/69 [00:00<00:00, 50044.44it/s]\n",
      "INFO:pdex._single_cell:Precomputing variable indices for each feature\n",
      "Identifying variable indices: 100%|██████████| 18080/18080 [00:00<00:00, 8518649.33it/s]\n",
      "INFO:pdex._single_cell:Creating shared memory memory matrix for parallel computing\n",
      "INFO:pdex._single_cell:Creating generator of all combinations: N=1247520\n",
      "INFO:pdex._single_cell:Creating generator of all batches: N=12476\n",
      "INFO:pdex._single_cell:Initializing parallel processing pool\n",
      "INFO:pdex._single_cell:Processing batches\n",
      "Processing batches: 100%|██████████| 12476/12476 [00:39<00:00, 318.27it/s]\n",
      "INFO:pdex._single_cell:Flattening results\n",
      "INFO:pdex._single_cell:Closing shared memory pool\n",
      "Computing DE labels with pdex: 100%|██████████| 1/1 [00:44<00:00, 44.71s/it]\n"
     ]
    },
    {
     "name": "stdout",
     "output_type": "stream",
     "text": [
      "Stored DE results in adata.uns['de_labels'] with 69 entries.\n"
     ]
    },
    {
     "name": "stderr",
     "output_type": "stream",
     "text": [
      "Computing expression ranks: 100%|██████████| 69/69 [00:00<00:00, 377.24it/s]\n"
     ]
    },
    {
     "name": "stdout",
     "output_type": "stream",
     "text": [
      "Stored rank vectors in adata.uns['rank_embedding'] with 69 entries.\n",
      "Processing k562.h5\n"
     ]
    },
    {
     "name": "stderr",
     "output_type": "stream",
     "text": [
      "Computing DE labels with pdex:   0%|          | 0/1 [00:00<?, ?it/s]INFO:pdex._single_cell:Precomputing masks for each target gene\n",
      "Identifying target masks: 100%|██████████| 54/54 [00:00<00:00, 59028.52it/s]\n",
      "INFO:pdex._single_cell:Precomputing variable indices for each feature\n",
      "Identifying variable indices: 100%|██████████| 18080/18080 [00:00<00:00, 7914111.49it/s]\n",
      "INFO:pdex._single_cell:Creating shared memory memory matrix for parallel computing\n",
      "INFO:pdex._single_cell:Creating generator of all combinations: N=976320\n",
      "INFO:pdex._single_cell:Creating generator of all batches: N=9764\n",
      "INFO:pdex._single_cell:Initializing parallel processing pool\n",
      "INFO:pdex._single_cell:Processing batches\n",
      "Processing batches: 100%|██████████| 9764/9764 [00:53<00:00, 183.44it/s]\n",
      "INFO:pdex._single_cell:Flattening results\n",
      "INFO:pdex._single_cell:Closing shared memory pool\n",
      "Computing DE labels with pdex: 100%|██████████| 1/1 [00:57<00:00, 57.99s/it]\n"
     ]
    },
    {
     "name": "stdout",
     "output_type": "stream",
     "text": [
      "Stored DE results in adata.uns['de_labels'] with 54 entries.\n"
     ]
    },
    {
     "name": "stderr",
     "output_type": "stream",
     "text": [
      "Computing expression ranks: 100%|██████████| 54/54 [00:00<00:00, 237.65it/s]\n"
     ]
    },
    {
     "name": "stdout",
     "output_type": "stream",
     "text": [
      "Stored rank vectors in adata.uns['rank_embedding'] with 54 entries.\n",
      "Processing competition_train.h5\n"
     ]
    },
    {
     "name": "stderr",
     "output_type": "stream",
     "text": [
      "Computing DE labels with pdex:   0%|          | 0/1 [00:00<?, ?it/s]INFO:pdex._single_cell:Precomputing masks for each target gene\n",
      "Identifying target masks: 100%|██████████| 151/151 [00:00<00:00, 36957.45it/s]\n",
      "INFO:pdex._single_cell:Precomputing variable indices for each feature\n",
      "Identifying variable indices: 100%|██████████| 18080/18080 [00:00<00:00, 6746709.64it/s]\n",
      "INFO:pdex._single_cell:Creating shared memory memory matrix for parallel computing\n",
      "INFO:pdex._single_cell:Creating generator of all combinations: N=2730080\n",
      "INFO:pdex._single_cell:Creating generator of all batches: N=27301\n",
      "INFO:pdex._single_cell:Initializing parallel processing pool\n",
      "INFO:pdex._single_cell:Processing batches\n",
      "Processing batches: 100%|██████████| 27301/27301 [28:05<00:00, 16.20it/s]\n",
      "INFO:pdex._single_cell:Flattening results\n",
      "INFO:pdex._single_cell:Closing shared memory pool\n",
      "Computing DE labels with pdex: 100%|██████████| 1/1 [28:31<00:00, 1711.98s/it]\n"
     ]
    },
    {
     "name": "stdout",
     "output_type": "stream",
     "text": [
      "Stored DE results in adata.uns['de_labels'] with 151 entries.\n"
     ]
    },
    {
     "name": "stderr",
     "output_type": "stream",
     "text": [
      "Computing expression ranks: 100%|██████████| 151/151 [00:06<00:00, 25.14it/s]\n"
     ]
    },
    {
     "name": "stdout",
     "output_type": "stream",
     "text": [
      "Stored rank vectors in adata.uns['rank_embedding'] with 151 entries.\n",
      "Processing k562_gwps.h5\n"
     ]
    },
    {
     "name": "stderr",
     "output_type": "stream",
     "text": [
      "Computing DE labels with pdex:   0%|          | 0/1 [00:00<?, ?it/s]INFO:pdex._single_cell:Precomputing masks for each target gene\n",
      "Identifying target masks: 100%|██████████| 184/184 [00:00<00:00, 39028.62it/s]\n",
      "INFO:pdex._single_cell:Precomputing variable indices for each feature\n",
      "Identifying variable indices: 100%|██████████| 18080/18080 [00:00<00:00, 5793644.76it/s]\n",
      "INFO:pdex._single_cell:Creating shared memory memory matrix for parallel computing\n",
      "INFO:pdex._single_cell:Creating generator of all combinations: N=3326720\n",
      "INFO:pdex._single_cell:Creating generator of all batches: N=33268\n",
      "INFO:pdex._single_cell:Initializing parallel processing pool\n",
      "INFO:pdex._single_cell:Processing batches\n",
      "Processing batches: 100%|██████████| 33268/33268 [34:42<00:00, 15.97it/s]\n",
      "INFO:pdex._single_cell:Flattening results\n",
      "INFO:pdex._single_cell:Closing shared memory pool\n",
      "Computing DE labels with pdex: 100%|██████████| 1/1 [35:06<00:00, 2106.88s/it]\n"
     ]
    },
    {
     "name": "stdout",
     "output_type": "stream",
     "text": [
      "Stored DE results in adata.uns['de_labels'] with 184 entries.\n"
     ]
    },
    {
     "name": "stderr",
     "output_type": "stream",
     "text": [
      "Computing expression ranks: 100%|██████████| 184/184 [00:01<00:00, 151.55it/s]\n"
     ]
    },
    {
     "name": "stdout",
     "output_type": "stream",
     "text": [
      "Stored rank vectors in adata.uns['rank_embedding'] with 184 entries.\n",
      "Processing jurkat.h5\n"
     ]
    },
    {
     "name": "stderr",
     "output_type": "stream",
     "text": [
      "Computing DE labels with pdex:   0%|          | 0/1 [00:00<?, ?it/s]INFO:pdex._single_cell:Precomputing masks for each target gene\n",
      "Identifying target masks: 100%|██████████| 69/69 [00:00<00:00, 52173.60it/s]\n",
      "INFO:pdex._single_cell:Precomputing variable indices for each feature\n",
      "Identifying variable indices: 100%|██████████| 18080/18080 [00:00<00:00, 5110730.31it/s]\n",
      "INFO:pdex._single_cell:Creating shared memory memory matrix for parallel computing\n",
      "INFO:pdex._single_cell:Creating generator of all combinations: N=1247520\n",
      "INFO:pdex._single_cell:Creating generator of all batches: N=12476\n",
      "INFO:pdex._single_cell:Initializing parallel processing pool\n",
      "INFO:pdex._single_cell:Processing batches\n",
      "Processing batches: 100%|██████████| 12476/12476 [01:18<00:00, 158.66it/s]\n",
      "INFO:pdex._single_cell:Flattening results\n",
      "INFO:pdex._single_cell:Closing shared memory pool\n",
      "Computing DE labels with pdex: 100%|██████████| 1/1 [01:25<00:00, 85.09s/it]\n"
     ]
    },
    {
     "name": "stdout",
     "output_type": "stream",
     "text": [
      "Stored DE results in adata.uns['de_labels'] with 69 entries.\n"
     ]
    },
    {
     "name": "stderr",
     "output_type": "stream",
     "text": [
      "Computing expression ranks: 100%|██████████| 69/69 [00:00<00:00, 245.05it/s]\n"
     ]
    },
    {
     "name": "stdout",
     "output_type": "stream",
     "text": [
      "Stored rank vectors in adata.uns['rank_embedding'] with 69 entries.\n",
      "Processing rpe1.h5\n"
     ]
    },
    {
     "name": "stderr",
     "output_type": "stream",
     "text": [
      "Computing DE labels with pdex:   0%|          | 0/1 [00:00<?, ?it/s]INFO:pdex._single_cell:Precomputing masks for each target gene\n",
      "Identifying target masks: 100%|██████████| 69/69 [00:00<00:00, 44897.14it/s]\n",
      "INFO:pdex._single_cell:Precomputing variable indices for each feature\n",
      "Identifying variable indices: 100%|██████████| 18080/18080 [00:00<00:00, 4839993.38it/s]\n",
      "INFO:pdex._single_cell:Creating shared memory memory matrix for parallel computing\n",
      "INFO:pdex._single_cell:Creating generator of all combinations: N=1247520\n",
      "INFO:pdex._single_cell:Creating generator of all batches: N=12476\n",
      "INFO:pdex._single_cell:Initializing parallel processing pool\n",
      "INFO:pdex._single_cell:Processing batches\n",
      "Processing batches: 100%|██████████| 12476/12476 [01:18<00:00, 158.08it/s]\n",
      "INFO:pdex._single_cell:Flattening results\n",
      "INFO:pdex._single_cell:Closing shared memory pool\n",
      "Computing DE labels with pdex: 100%|██████████| 1/1 [01:25<00:00, 85.50s/it]\n"
     ]
    },
    {
     "name": "stdout",
     "output_type": "stream",
     "text": [
      "Stored DE results in adata.uns['de_labels'] with 69 entries.\n"
     ]
    },
    {
     "name": "stderr",
     "output_type": "stream",
     "text": [
      "Computing expression ranks: 100%|██████████| 69/69 [00:00<00:00, 236.53it/s]\n"
     ]
    },
    {
     "name": "stdout",
     "output_type": "stream",
     "text": [
      "Stored rank vectors in adata.uns['rank_embedding'] with 69 entries.\n"
     ]
    }
   ],
   "source": [
    "for path in anndata_paths:\n",
    "    print(f\"Processing {path.name}\")\n",
    "    adata = ad.read_h5ad(path)\n",
    "\n",
    "    # Compute DE labels\n",
    "    compute_de_labels(adata, perturb_col=\"target_gene\", cell_type_col=\"cell_type\", control_var=\"non-targeting\", alpha=0.05)\n",
    "\n",
    "    # Compute expression ranks\n",
    "    compute_expression_ranks(adata, groupby_key=\"target_gene\", celltype_key=\"cell_type\")\n",
    "\n",
    "    # Save updated AnnData\n",
    "    adata.write_h5ad(path)  # Overwrite original file or save to a new path if needed"
   ]
  },
  {
   "cell_type": "code",
   "execution_count": null,
   "id": "851f9a99",
   "metadata": {},
   "outputs": [],
   "source": []
  }
 ],
 "metadata": {
  "kernelspec": {
   "display_name": ".venv",
   "language": "python",
   "name": "python3"
  },
  "language_info": {
   "codemirror_mode": {
    "name": "ipython",
    "version": 3
   },
   "file_extension": ".py",
   "mimetype": "text/x-python",
   "name": "python",
   "nbconvert_exporter": "python",
   "pygments_lexer": "ipython3",
   "version": "3.11.2"
  }
 },
 "nbformat": 4,
 "nbformat_minor": 5
}
